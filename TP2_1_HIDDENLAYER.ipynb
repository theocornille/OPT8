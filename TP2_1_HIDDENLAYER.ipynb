{
 "cells": [
  {
   "cell_type": "markdown",
   "metadata": {},
   "source": [
    "# TP 2 : Neural Network with one hidden layer"
   ]
  },
  {
   "cell_type": "markdown",
   "metadata": {},
   "source": [
    "Voici le choix des paramètres pour ce réseau neuronal sans couche cachée:\n",
    "- Eta : 0.05\n",
    "- Taille du Mini-batch : 32\n",
    "- Epoch : 20\n",
    "- Nombre de neurones dans la couche cachée : 200\n",
    "\n",
    "\n",
    "Résultats (Précision):\n",
    "- Sur le jeu de validation : 91.78%\n",
    "- Sur le jeu de test : 90.96%\n",
    "\n",
    "Le choix des paramètres aurait pu être amélioré mais par manque de temps, je vous envoie les résultats trouvés."
   ]
  },
  {
   "cell_type": "code",
   "execution_count": 37,
   "metadata": {},
   "outputs": [],
   "source": [
    "%matplotlib inline\n",
    "import os\n",
    "import numpy as np\n",
    "import matplotlib.pyplot as plt\n",
    "from ipywidgets import FloatProgress\n",
    "\n",
    "mnistfile=\"mnist.pkl.gz\"\n",
    "\n",
    "## If you need to download it : \n",
    "#if(\"mnist.pkl.gz\" not in os.listdir(\".\")):\n",
    "#    !wget http://deeplearning.net/data/mnist/mnist.pkl.gz"
   ]
  },
  {
   "cell_type": "code",
   "execution_count": 38,
   "metadata": {},
   "outputs": [],
   "source": [
    "import dataset_loader\n",
    "train_set, valid_set, test_set = dataset_loader.load_mnist(mnistfile)"
   ]
  },
  {
   "cell_type": "code",
   "execution_count": 39,
   "metadata": {},
   "outputs": [],
   "source": [
    "def init(n_in,n_out):\n",
    "    W = np.random.normal(0, 1, (n_out, n_in))\n",
    "    b = np.random.normal(0, 1, (n_out))\n",
    "    return W,b\n",
    "\n",
    "def forward(W,b,X):\n",
    "    \"\"\"\n",
    "        Perform the forward propagation\n",
    "        :param W: the weights (n_output x n_input)\n",
    "        :param b: the bias (n_output * 1)\n",
    "        :param X: the input (minibatch_size x n_input)\n",
    "        :type W: ndarray\n",
    "        :type B: ndarray\n",
    "        :type X: ndarray\n",
    "        :return: the transformed values (n_output x minibatch_size)\n",
    "        :rtype: ndarray\n",
    "    \"\"\"\n",
    "    b=b.reshape(W.shape[0],1)\n",
    "    return np.dot(W, X) + b\n",
    "\n",
    "def softmax(z):\n",
    "    \"\"\"\n",
    "        Perform the softmax transformation to the pre-activation values\n",
    "        :param a: the pre-activation values (n_output x minibatch_size)\n",
    "        :type a: ndarray\n",
    "        :return: the activation values (n_output x minibatch_size)\n",
    "        :rtype: ndarray\n",
    "    \"\"\"\n",
    "    z = z - np.max(z)\n",
    "    output = z\n",
    "    for i_sample in range(z.shape[1]):\n",
    "        output[:, i_sample] = np.exp(z[:, i_sample]) / np.sum(np.exp(z[:, i_sample]))\n",
    "    return output\n",
    "\n",
    "def gradient_out(out, one_hot_batch):\n",
    "    \"\"\"\n",
    "    compute the gradient w.r.t. the pre-activation values of the softmax z_i\n",
    "    :param out: the softmax values (n_output x minibatch_size)\n",
    "    :type out: ndarray\n",
    "    :param one_hot_batch: the one-hot representation of the labels (n_output x minibatch_size)\n",
    "    :type one_hot_batch: ndarray\n",
    "    :return: the gradient w.r.t. z (n_output x minibatch_size)\n",
    "    :rtype: ndarray\n",
    "    \"\"\"\n",
    "    return out - one_hot_batch\n",
    "\n",
    "def gradient(derror, X):\n",
    "    \"\"\"\n",
    "        Compute the gradient w.r.t. the parameters\n",
    "        :param derror: the gradient w.r.t. z (n_output x minibatch_size)\n",
    "        :param X: the input (minibatch_size x n_input)\n",
    "        :type derror: ndarray\n",
    "        :type minibatch: ndarray\n",
    "        :return: the gradient w.r.t. the parameters (n_output x n_input), (n_output, 1)\n",
    "        :rtype: ndarray, ndarray\n",
    "    \"\"\"\n",
    "    minibatch_size = X.shape[0]\n",
    "    n_output = derror.shape[0]\n",
    "    n_input = X.shape[1]\n",
    "    grad_w = np.zeros((n_output, n_input))\n",
    "    grad_b = np.zeros(n_output)\n",
    "    for i_sample in range(minibatch_size):\n",
    "        grad_b += derror[:, i_sample]\n",
    "        grad_w += np.outer(derror[:, i_sample], X[i_sample, :])\n",
    "    \n",
    "    grad_b /= minibatch_size\n",
    "    grad_w /= minibatch_size\n",
    "    return grad_w,grad_b\n",
    "\n",
    "def update(eta, W, b, grad_w, grad_b):\n",
    "    \"\"\"\n",
    "        Update the parameters with an update rule\n",
    "        :param eta: the step-size\n",
    "        :param W: the weights\n",
    "        :param b: the bias\n",
    "        :param grad_w: the gradient w.r.t. the weights\n",
    "        :param grad_b: the gradient w.r.t. the bias\n",
    "        :type eta: float\n",
    "        :type W: ndarray\n",
    "        :type b: ndarray\n",
    "        :type grad_w: ndarray\n",
    "        :type grad_b: ndarray\n",
    "        :return: the updated parameters\n",
    "        :rtype: ndarray, ndarray\n",
    "    \"\"\"\n",
    "    W = W - eta * grad_w\n",
    "    b = b - eta * grad_b\n",
    "    return W, b"
   ]
  },
  {
   "cell_type": "code",
   "execution_count": 40,
   "metadata": {},
   "outputs": [],
   "source": [
    "def one_hot_transform(labels, n_labels):\n",
    "    \"\"\"\n",
    "    Compute one-hot representation of labels\n",
    "    :param labels: labels of the samples (1 x minibatch_size)\n",
    "    :param n_labels: number of different classes\n",
    "    :type labels: ndarray\n",
    "    :type n_labels: int\n",
    "    :type minibatch_size: int\n",
    "    :return: the one-hot representation (n_labels x minibatch_size)\n",
    "    :rtype: ndarray\n",
    "    \"\"\"\n",
    "    one_hot_batch=np.zeros((n_labels,len(labels)))\n",
    "    for pos, label in enumerate(labels):\n",
    "        one_hot_batch[label,pos]=1\n",
    "    return one_hot_batch\n",
    "\n",
    "def log_loss(outputs, one_hot_labels):\n",
    "    \"\"\"\n",
    "    Compute log-loss of current batch\n",
    "    :param outputs: outputs of the NNet (n_labels x minibatch_size)\n",
    "    :param one_hot_labels: one-hot representation of real labels (n_labels x minibatch_size)\n",
    "    :return log-loss summed over all outputs\n",
    "    \"\"\"\n",
    "    return np.sum(-np.log(outputs) * one_hot_labels) / outputs.shape[1]\n",
    "\n",
    "\n",
    "def accuracy_rate(Y, one_hot_batch):\n",
    "    \"\"\"\n",
    "    Compute classification accuracy of current batch\n",
    "    :param outputs: outputs of the NNet (n_labels x minibatch_size)\n",
    "    :param label: labels to predict (n_labels x minibatch_size)\n",
    "    :return accuracy computed over all outputs\n",
    "    \"\"\"\n",
    "    predicted_one_hot_labels = np.zeros(one_hot_batch.shape)\n",
    "    for pos,predicted_label in enumerate(np.argmax(Y,axis=0)):\n",
    "        predicted_one_hot_labels[predicted_label,pos]=1\n",
    "\n",
    "    nb_correct_predictions = np.sum(predicted_one_hot_labels * one_hot_batch)\n",
    "    return nb_correct_predictions/one_hot_batch.shape[1]"
   ]
  },
  {
   "cell_type": "code",
   "execution_count": 41,
   "metadata": {},
   "outputs": [],
   "source": [
    "def train_hidden(n_in, n_h, n_out, eta, epochs, minibatch_size, train_set):\n",
    "    \n",
    "    #paramètres initialisation + historique\n",
    "    tot_train=train_set[0].shape[0]\n",
    "    \n",
    "    train_loss=[]\n",
    "    train_accuracy=[]\n",
    "    valid_loss=[]\n",
    "    valid_accuracy=[]\n",
    "    \n",
    "    W1,b1=init(n_in,n_h)\n",
    "    W2,b2=init(n_h,n_out)\n",
    "    \n",
    "    nb_batch=tot_train//minibatch_size\n",
    "    f = FloatProgress(min=0, max=nb_batch)\n",
    "    \n",
    "    for e in range(epochs):\n",
    "        print(\"Training model (epoch = {}/{})\".format(e+1, epochs))\n",
    "        f = FloatProgress(min=0, max=nb_batch)\n",
    "        display(f)\n",
    "        for n in range(nb_batch):\n",
    "            f.value+=1\n",
    "            #lecture du minibatch\n",
    "            batch=train_set[0][(n*minibatch_size):((n+1)*minibatch_size)]\n",
    "            labels=train_set[1][(n*minibatch_size):((n+1)*minibatch_size)]\n",
    "            X=batch\n",
    "            \n",
    "            # representation one-hot des labels à prédire\n",
    "            labels_to_predict=one_hot_transform(labels,n_out)\n",
    "            \n",
    "            #forward propagation\n",
    "            #1st layer + activation\n",
    "            h=np.tanh(forward(W1,b1,np.transpose(X)))\n",
    "            #2nd layer + activation\n",
    "            Y=forward(W2,b2,h)\n",
    "            outputs=softmax(Y)\n",
    "            # calcul de la log-loss et de la précision pour ce batch\n",
    "            train_loss.append(log_loss(outputs,labels_to_predict))\n",
    "            train_accuracy.append(accuracy_rate(outputs,labels_to_predict))\n",
    "            \n",
    "            if valid_set:\n",
    "                h_valid = np.tanh(forward(W1, b1, np.transpose(valid_set[0])))\n",
    "                outputs_valid = softmax(forward(W2, b2, h_valid))\n",
    "                labels_valid = one_hot_transform(valid_set[1], n_out)\n",
    "                valid_loss.append(log_loss(outputs_valid, labels_valid))\n",
    "                valid_accuracy.append(accuracy_rate(outputs_valid, labels_valid))\n",
    "            \n",
    "            \n",
    "            # calcul du gradient de sortie : backward propagation\n",
    "            out=gradient_out(outputs, labels_to_predict)\n",
    "            grad_W2, grad_b2 = gradient(out,np.transpose(h))\n",
    "            derrorh=np.dot(np.transpose(W2),out)\n",
    "            grad_W1, grad_b1 = gradient(derrorh,X)\n",
    "            \n",
    "            #update du modèle\n",
    "            W2,b2=update(eta, W2, b2, grad_W2, grad_b2)\n",
    "            W1,b1=update(eta, W1, b1, grad_W1, grad_b1)\n",
    "            \n",
    "    return(W2,b2,W1,b1,train_loss,train_accuracy,valid_loss,valid_accuracy)"
   ]
  },
  {
   "cell_type": "markdown",
   "metadata": {},
   "source": [
    "# TRAIN"
   ]
  },
  {
   "cell_type": "code",
   "execution_count": 42,
   "metadata": {},
   "outputs": [],
   "source": [
    "#PARAMETERS\n",
    "N_IN=784\n",
    "N_H=200\n",
    "N_OUT=10\n",
    "ETA=0.05\n",
    "EPOCHS=20\n",
    "MINIBATCH_SIZE=32"
   ]
  },
  {
   "cell_type": "code",
   "execution_count": 43,
   "metadata": {},
   "outputs": [
    {
     "name": "stdout",
     "output_type": "stream",
     "text": [
      "Training model (epoch = 1/20)\n"
     ]
    },
    {
     "data": {
      "application/vnd.jupyter.widget-view+json": {
       "model_id": "d17c117e04d04791b0726f20de0bdcb9",
       "version_major": 2,
       "version_minor": 0
      },
      "text/plain": [
       "FloatProgress(value=0.0, max=1562.0)"
      ]
     },
     "metadata": {},
     "output_type": "display_data"
    },
    {
     "name": "stdout",
     "output_type": "stream",
     "text": [
      "Training model (epoch = 2/20)\n"
     ]
    },
    {
     "data": {
      "application/vnd.jupyter.widget-view+json": {
       "model_id": "9993de2c4a6e4bd48882e1db4840af6d",
       "version_major": 2,
       "version_minor": 0
      },
      "text/plain": [
       "FloatProgress(value=0.0, max=1562.0)"
      ]
     },
     "metadata": {},
     "output_type": "display_data"
    },
    {
     "name": "stdout",
     "output_type": "stream",
     "text": [
      "Training model (epoch = 3/20)\n"
     ]
    },
    {
     "data": {
      "application/vnd.jupyter.widget-view+json": {
       "model_id": "52b2ffc752b34c0c9f5a719a84b40fb7",
       "version_major": 2,
       "version_minor": 0
      },
      "text/plain": [
       "FloatProgress(value=0.0, max=1562.0)"
      ]
     },
     "metadata": {},
     "output_type": "display_data"
    },
    {
     "name": "stdout",
     "output_type": "stream",
     "text": [
      "Training model (epoch = 4/20)\n"
     ]
    },
    {
     "data": {
      "application/vnd.jupyter.widget-view+json": {
       "model_id": "92b3e3c102124fac876cae485d21dc12",
       "version_major": 2,
       "version_minor": 0
      },
      "text/plain": [
       "FloatProgress(value=0.0, max=1562.0)"
      ]
     },
     "metadata": {},
     "output_type": "display_data"
    },
    {
     "name": "stdout",
     "output_type": "stream",
     "text": [
      "Training model (epoch = 5/20)\n"
     ]
    },
    {
     "data": {
      "application/vnd.jupyter.widget-view+json": {
       "model_id": "1367f66f3cef437eadb4987624ca6b11",
       "version_major": 2,
       "version_minor": 0
      },
      "text/plain": [
       "FloatProgress(value=0.0, max=1562.0)"
      ]
     },
     "metadata": {},
     "output_type": "display_data"
    },
    {
     "name": "stdout",
     "output_type": "stream",
     "text": [
      "Training model (epoch = 6/20)\n"
     ]
    },
    {
     "data": {
      "application/vnd.jupyter.widget-view+json": {
       "model_id": "9f19a6019d934246be26479b5a374ad8",
       "version_major": 2,
       "version_minor": 0
      },
      "text/plain": [
       "FloatProgress(value=0.0, max=1562.0)"
      ]
     },
     "metadata": {},
     "output_type": "display_data"
    },
    {
     "name": "stdout",
     "output_type": "stream",
     "text": [
      "Training model (epoch = 7/20)\n"
     ]
    },
    {
     "data": {
      "application/vnd.jupyter.widget-view+json": {
       "model_id": "dece6780eb65488bb7d590d829ca2536",
       "version_major": 2,
       "version_minor": 0
      },
      "text/plain": [
       "FloatProgress(value=0.0, max=1562.0)"
      ]
     },
     "metadata": {},
     "output_type": "display_data"
    },
    {
     "name": "stdout",
     "output_type": "stream",
     "text": [
      "Training model (epoch = 8/20)\n"
     ]
    },
    {
     "data": {
      "application/vnd.jupyter.widget-view+json": {
       "model_id": "25376f6b6ca748329411441d5078c53c",
       "version_major": 2,
       "version_minor": 0
      },
      "text/plain": [
       "FloatProgress(value=0.0, max=1562.0)"
      ]
     },
     "metadata": {},
     "output_type": "display_data"
    },
    {
     "name": "stdout",
     "output_type": "stream",
     "text": [
      "Training model (epoch = 9/20)\n"
     ]
    },
    {
     "data": {
      "application/vnd.jupyter.widget-view+json": {
       "model_id": "9041b41e169d40b8bd1a084eaa8a1785",
       "version_major": 2,
       "version_minor": 0
      },
      "text/plain": [
       "FloatProgress(value=0.0, max=1562.0)"
      ]
     },
     "metadata": {},
     "output_type": "display_data"
    },
    {
     "name": "stdout",
     "output_type": "stream",
     "text": [
      "Training model (epoch = 10/20)\n"
     ]
    },
    {
     "data": {
      "application/vnd.jupyter.widget-view+json": {
       "model_id": "eccbd508a1064b5f9168f5409de6cbf5",
       "version_major": 2,
       "version_minor": 0
      },
      "text/plain": [
       "FloatProgress(value=0.0, max=1562.0)"
      ]
     },
     "metadata": {},
     "output_type": "display_data"
    },
    {
     "name": "stdout",
     "output_type": "stream",
     "text": [
      "Training model (epoch = 11/20)\n"
     ]
    },
    {
     "data": {
      "application/vnd.jupyter.widget-view+json": {
       "model_id": "8b258a2d75dc42519851af9fe833585c",
       "version_major": 2,
       "version_minor": 0
      },
      "text/plain": [
       "FloatProgress(value=0.0, max=1562.0)"
      ]
     },
     "metadata": {},
     "output_type": "display_data"
    },
    {
     "name": "stdout",
     "output_type": "stream",
     "text": [
      "Training model (epoch = 12/20)\n"
     ]
    },
    {
     "data": {
      "application/vnd.jupyter.widget-view+json": {
       "model_id": "e85a568d52ef4984bca6cb87ac243f0b",
       "version_major": 2,
       "version_minor": 0
      },
      "text/plain": [
       "FloatProgress(value=0.0, max=1562.0)"
      ]
     },
     "metadata": {},
     "output_type": "display_data"
    },
    {
     "name": "stdout",
     "output_type": "stream",
     "text": [
      "Training model (epoch = 13/20)\n"
     ]
    },
    {
     "data": {
      "application/vnd.jupyter.widget-view+json": {
       "model_id": "c9135a12cb674f3e85a12e718cb92378",
       "version_major": 2,
       "version_minor": 0
      },
      "text/plain": [
       "FloatProgress(value=0.0, max=1562.0)"
      ]
     },
     "metadata": {},
     "output_type": "display_data"
    },
    {
     "name": "stdout",
     "output_type": "stream",
     "text": [
      "Training model (epoch = 14/20)\n"
     ]
    },
    {
     "data": {
      "application/vnd.jupyter.widget-view+json": {
       "model_id": "36ea49d0d76646efba85d19d147f876c",
       "version_major": 2,
       "version_minor": 0
      },
      "text/plain": [
       "FloatProgress(value=0.0, max=1562.0)"
      ]
     },
     "metadata": {},
     "output_type": "display_data"
    },
    {
     "name": "stdout",
     "output_type": "stream",
     "text": [
      "Training model (epoch = 15/20)\n"
     ]
    },
    {
     "data": {
      "application/vnd.jupyter.widget-view+json": {
       "model_id": "5faf9e6fcb604656890a777b06d0fcd1",
       "version_major": 2,
       "version_minor": 0
      },
      "text/plain": [
       "FloatProgress(value=0.0, max=1562.0)"
      ]
     },
     "metadata": {},
     "output_type": "display_data"
    },
    {
     "name": "stdout",
     "output_type": "stream",
     "text": [
      "Training model (epoch = 16/20)\n"
     ]
    },
    {
     "data": {
      "application/vnd.jupyter.widget-view+json": {
       "model_id": "0cdab9b7bddd41e8be6c1401a5625f68",
       "version_major": 2,
       "version_minor": 0
      },
      "text/plain": [
       "FloatProgress(value=0.0, max=1562.0)"
      ]
     },
     "metadata": {},
     "output_type": "display_data"
    },
    {
     "name": "stdout",
     "output_type": "stream",
     "text": [
      "Training model (epoch = 17/20)\n"
     ]
    },
    {
     "data": {
      "application/vnd.jupyter.widget-view+json": {
       "model_id": "76705d28054040db87ced276a429fc70",
       "version_major": 2,
       "version_minor": 0
      },
      "text/plain": [
       "FloatProgress(value=0.0, max=1562.0)"
      ]
     },
     "metadata": {},
     "output_type": "display_data"
    },
    {
     "name": "stdout",
     "output_type": "stream",
     "text": [
      "Training model (epoch = 18/20)\n"
     ]
    },
    {
     "data": {
      "application/vnd.jupyter.widget-view+json": {
       "model_id": "6e15d45ba3a64ba88c018e51951a4a79",
       "version_major": 2,
       "version_minor": 0
      },
      "text/plain": [
       "FloatProgress(value=0.0, max=1562.0)"
      ]
     },
     "metadata": {},
     "output_type": "display_data"
    },
    {
     "name": "stdout",
     "output_type": "stream",
     "text": [
      "Training model (epoch = 19/20)\n"
     ]
    },
    {
     "data": {
      "application/vnd.jupyter.widget-view+json": {
       "model_id": "db017039e5d943ba85dea77e53884c58",
       "version_major": 2,
       "version_minor": 0
      },
      "text/plain": [
       "FloatProgress(value=0.0, max=1562.0)"
      ]
     },
     "metadata": {},
     "output_type": "display_data"
    },
    {
     "name": "stdout",
     "output_type": "stream",
     "text": [
      "Training model (epoch = 20/20)\n"
     ]
    },
    {
     "data": {
      "application/vnd.jupyter.widget-view+json": {
       "model_id": "b31ff67486ac4112b580bb3e5fc7283e",
       "version_major": 2,
       "version_minor": 0
      },
      "text/plain": [
       "FloatProgress(value=0.0, max=1562.0)"
      ]
     },
     "metadata": {},
     "output_type": "display_data"
    }
   ],
   "source": [
    "#Train\n",
    "W2,b2,W1,b1,train_loss,train_accuracy,valid_loss,valid_accuracy=train_hidden(N_IN, N_H, N_OUT, ETA, EPOCHS, MINIBATCH_SIZE, train_set)"
   ]
  },
  {
   "cell_type": "code",
   "execution_count": 44,
   "metadata": {},
   "outputs": [
    {
     "data": {
      "image/png": "[encoded data removed]",
      "text/plain": [
       "<Figure size 432x288 with 1 Axes>"
      ]
     },
     "metadata": {},
     "output_type": "display_data"
    },
    {
     "name": "stdout",
     "output_type": "stream",
     "text": [
      "validation loss:0.3132040234264709\n"
     ]
    },
    {
     "data": {
      "image/png": "[encoded data removed]",
      "text/plain": [
       "<Figure size 432x288 with 1 Axes>"
      ]
     },
     "metadata": {},
     "output_type": "display_data"
    },
    {
     "name": "stdout",
     "output_type": "stream",
     "text": [
      "validation accuracy:0.9178\n"
     ]
    }
   ],
   "source": [
    "plt.plot(train_loss, \"b\", label='Training loss (current batch)')\n",
    "plt.plot(valid_loss, \"r\", label='Validation loss (all samples)')\n",
    "plt.title(\"Training and Validation loss\")\n",
    "plt.xlabel(\"Itérations sur mini-batches\")\n",
    "plt.ylabel(\"Loss\")\n",
    "plt.legend()\n",
    "plt.show()\n",
    "print('validation loss:{}'.format(valid_loss[len(valid_loss)-1]))\n",
    "\n",
    "plt.plot(train_accuracy, \"b\", label='Training Accuracy')\n",
    "plt.plot(valid_accuracy, \"r\", label='Validation Accuracy')\n",
    "plt.title(\"Training and Validation Accuracy\")\n",
    "plt.xlabel(\"Itérations sur mini-batches\")\n",
    "plt.ylabel(\"Accuracy\")\n",
    "plt.legend()\n",
    "plt.show()\n",
    "print('validation accuracy:{}'.format(valid_accuracy[len(valid_accuracy)-1]))"
   ]
  },
  {
   "cell_type": "markdown",
   "metadata": {},
   "source": [
    "# TEST"
   ]
  },
  {
   "cell_type": "code",
   "execution_count": 45,
   "metadata": {},
   "outputs": [
    {
     "name": "stdout",
     "output_type": "stream",
     "text": [
      "Results for test set :\n",
      " - log loss moyenne = 0.345\n",
      " - taux de précision = 90.96%\n"
     ]
    }
   ],
   "source": [
    "#TEST\n",
    "h_valid = np.tanh(forward(W1, b1, np.transpose(test_set[0])))\n",
    "outputs_test = softmax(forward(W2, b2, h_valid))\n",
    "labels_test = one_hot_transform(test_set[1], 10)\n",
    "print(\"Results for test set :\")\n",
    "print(\" - log loss moyenne = {:.3f}\".format(log_loss(outputs_test, labels_test)))\n",
    "print(\" - taux de précision = {:.2f}%\".format(100*accuracy_rate(outputs_test, labels_test)))"
   ]
  }
 ],
 "metadata": {
  "kernelspec": {
   "display_name": "Python 3",
   "language": "python",
   "name": "python3"
  },
  "language_info": {
   "codemirror_mode": {
    "name": "ipython",
    "version": 3
   },
   "file_extension": ".py",
   "mimetype": "text/x-python",
   "name": "python",
   "nbconvert_exporter": "python",
   "pygments_lexer": "ipython3",
   "version": "3.6.5"
  }
 },
 "nbformat": 4,
 "nbformat_minor": 2
}
