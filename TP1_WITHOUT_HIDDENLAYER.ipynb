{
 "cells": [
  {
   "cell_type": "markdown",
   "metadata": {},
   "source": [
    "# TP 1 : Neural Networks without hidden layer"
   ]
  },
  {
   "cell_type": "markdown",
   "metadata": {},
   "source": [
    "Seul l'implémentation du Gradient Checking n'a pas été fait\n",
    "\n",
    "Voici le choix des paramètres pour ce réseau neuronal sans couche cachée:\n",
    "- Eta : 1\n",
    "- Taille du Mini-batch : 256\n",
    "- Epoch : 5\n",
    "\n",
    "Résultats (Précision):\n",
    "- Sur le jeu de validation : 90.98%\n",
    "- Sur le jeu de test : 90.44%"
   ]
  },
  {
   "cell_type": "markdown",
   "metadata": {
    "colab_type": "text",
    "id": "bOT3u0GZKWc8"
   },
   "source": [
    "# Réseau de neurones: les bases en numpy\n"
   ]
  },
  {
   "cell_type": "markdown",
   "metadata": {
    "colab_type": "text",
    "id": "Irgrskx6KWc-"
   },
   "source": [
    "Le but de ce TP1 est d'acquérir les bases nécessaires à la compréhension des réseaux de neurones à partir d'un modèle simple de type Softmax. La tâche d'apprentissage consiste à classifier les images (28 par 28 pixels) de la base MNIST (http://yann.lecun.com/exdb/mnist/) en 10 catégories représentant les chiffres 0-9.\n",
    "\n",
    "Le TP2 consistera à généraliser les concepts de ce TP1 à un réseau de neurones multi-couches."
   ]
  },
  {
   "cell_type": "markdown",
   "metadata": {
    "colab_type": "text",
    "id": "nlmi-culKWdA"
   },
   "source": [
    "## Téléchargement de la base d'entraînement"
   ]
  },
  {
   "cell_type": "code",
   "execution_count": 105,
   "metadata": {
    "colab": {},
    "colab_type": "code",
    "id": "B9Ekg9fkKWdD"
   },
   "outputs": [],
   "source": [
    "%matplotlib inline\n",
    "import os\n",
    "import numpy as np\n",
    "import matplotlib.pyplot as plt\n",
    "from ipywidgets import FloatProgress\n",
    "\n",
    "mnistfile=\"mnist.pkl.gz\"\n",
    "\n",
    "## If you need to download it : \n",
    "#if(\"mnist.pkl.gz\" not in os.listdir(\".\")):\n",
    "#    !wget http://deeplearning.net/data/mnist/mnist.pkl.gz"
   ]
  },
  {
   "cell_type": "markdown",
   "metadata": {
    "colab_type": "text",
    "id": "9Z209vjgKWdI"
   },
   "source": [
    "## Chargement de la base en mémoire"
   ]
  },
  {
   "cell_type": "code",
   "execution_count": 106,
   "metadata": {
    "colab": {
     "base_uri": "https://localhost:8080/",
     "height": 317
    },
    "colab_type": "code",
    "executionInfo": {
     "elapsed": 758,
     "status": "error",
     "timestamp": 1539027170049,
     "user": {
      "displayName": "Xihui Wang",
      "photoUrl": "",
      "userId": "09445164112052208872"
     },
     "user_tz": -120
    },
    "id": "mpsZNRC7KWdJ",
    "outputId": "62717275-e711-44e0-eafa-990e62d7a244"
   },
   "outputs": [],
   "source": [
    "import dataset_loader\n",
    "train_set, valid_set, test_set = dataset_loader.load_mnist(mnistfile)"
   ]
  },
  {
   "cell_type": "markdown",
   "metadata": {
    "colab_type": "text",
    "id": "6omnBvnBKWdM"
   },
   "source": [
    "Vous pouvez visualiser les différents caractères en changeant l'identifiant de l'image"
   ]
  },
  {
   "cell_type": "code",
   "execution_count": 107,
   "metadata": {
    "colab": {},
    "colab_type": "code",
    "id": "_vaeu6ApKWdN"
   },
   "outputs": [
    {
     "name": "stdout",
     "output_type": "stream",
     "text": [
      "label: 9\n"
     ]
    },
    {
     "data": {
      "image/png": "[encoded data removed]",
      "text/plain": [
       "<Figure size 432x288 with 1 Axes>"
      ]
     },
     "metadata": {},
     "output_type": "display_data"
    }
   ],
   "source": [
    "img_id = 900\n",
    "plt.imshow(train_set[0][img_id].reshape(28,28),cmap='Greys')\n",
    "print(\"label: \" + str(train_set[1][img_id]))"
   ]
  },
  {
   "cell_type": "markdown",
   "metadata": {
    "colab_type": "text",
    "id": "GNRQzPZ3KWdP"
   },
   "source": [
    "**Question:** Donner les caractéristiques de la base d'apprentissage train_set"
   ]
  },
  {
   "cell_type": "code",
   "execution_count": 108,
   "metadata": {
    "colab": {},
    "colab_type": "code",
    "id": "Agfwh-s8KWdQ"
   },
   "outputs": [],
   "source": [
    "def getDimDataset(train_set):\n",
    "    n_training = train_set[0].shape[0]\n",
    "    n_feature = train_set[0].shape[1]\n",
    "    n_label = len(np.unique(train_set[1]))\n",
    "    return n_training, n_feature, n_label"
   ]
  },
  {
   "cell_type": "code",
   "execution_count": 109,
   "metadata": {
    "colab": {},
    "colab_type": "code",
    "id": "NeDu0nO6KWdT"
   },
   "outputs": [
    {
     "data": {
      "text/plain": [
       "(50000, 784, 10)"
      ]
     },
     "execution_count": 109,
     "metadata": {},
     "output_type": "execute_result"
    }
   ],
   "source": [
    "getDimDataset(train_set)"
   ]
  },
  {
   "cell_type": "markdown",
   "metadata": {
    "colab_type": "text",
    "id": "MvZIFXNNKWdV"
   },
   "source": [
    "## Création du modèle\n",
    "\n",
    "Nous allons d'abord créer une couche linéaire, soit une transformation linéaire. La vraie difficulté réside dans la manipulation de matrices de ne pas se mélanger dans les dimensions. \n",
    "\n",
    "Pour l'implémentation, nous allons considérer explicitement le terme de biais. Ainsi, une couche linéaire se définit comme la tranformation linéaire: \n",
    "$$\n",
    "\\mathbf{y} = \\mathbf{W}\\mathbf{x}+ \\mathbf{b}\n",
    "$$\n",
    "\n",
    "Notons *n_in* et *n_out* respectivement les dimensions de $\\mathbf{x}$ et $\\mathbf{y}$. \n",
    "\n",
    "**Questions:**\n",
    "- écrire les dimensions de W et b\n",
    "- Coder la fonction d'init. suivante, l'init. est aléatoire et gaussienne, comme dans le cours. La fonction retourne W et b. \n"
   ]
  },
  {
   "cell_type": "code",
   "execution_count": 110,
   "metadata": {
    "colab": {},
    "colab_type": "code",
    "id": "zaHamy9hKWdX"
   },
   "outputs": [],
   "source": [
    "def init(n_in,n_out):\n",
    "    W = np.random.normal(0, 1, (n_out, n_in))\n",
    "    b = np.random.normal(0, 1, (n_out))\n",
    "    return W,b"
   ]
  },
  {
   "cell_type": "markdown",
   "metadata": {
    "colab_type": "text",
    "id": "79A7J5vYKWdZ"
   },
   "source": [
    "**Test:** Même si cela ne sera pas redit, on vérifie toujours les dimensions de ce que l'on crée, et transforme. Dit autrement on fait des tests intermédiaires. En machine learning, comme en programmation, c'est incontournable. \n",
    "Pour cela créer, une couche de tailles d'entrée et de sortie égales à 5 et 3. \n"
   ]
  },
  {
   "cell_type": "code",
   "execution_count": 111,
   "metadata": {
    "colab": {},
    "colab_type": "code",
    "id": "Z4MGDedaKWda"
   },
   "outputs": [
    {
     "name": "stdout",
     "output_type": "stream",
     "text": [
      "[[-0.5848561   0.34360235 -1.1633614   0.19930486  0.10844508]\n",
      " [ 0.62889259 -2.19240273  0.16419336 -1.25521456 -0.03071045]\n",
      " [-0.87985432 -1.98397824  0.04459052  0.02569202  2.81293659]]\n",
      "[-0.72305475 -1.42858272 -0.49330277]\n"
     ]
    }
   ],
   "source": [
    "W, b = init(5, 3)\n",
    "print(W)\n",
    "print(b)"
   ]
  },
  {
   "cell_type": "markdown",
   "metadata": {
    "colab_type": "text",
    "id": "Whj07Lr5KWdc"
   },
   "source": [
    "**Question :** Donner les dimensions de W et b ainsi que le nombre total de paramètres du modèle"
   ]
  },
  {
   "cell_type": "code",
   "execution_count": 112,
   "metadata": {
    "colab": {},
    "colab_type": "code",
    "id": "GrvS_bs1KWdd"
   },
   "outputs": [],
   "source": [
    "def printInfo(W,b):\n",
    "    print(\"W dimensions: \" + str(W.shape))\n",
    "    print(\"b dimensions: \" + str(b.shape))\n",
    "    print(\"Number of parameters: \" + str(np.size(W) + np.size(b)))"
   ]
  },
  {
   "cell_type": "code",
   "execution_count": 113,
   "metadata": {},
   "outputs": [
    {
     "name": "stdout",
     "output_type": "stream",
     "text": [
      "W dimensions: (3, 5)\n",
      "b dimensions: (3,)\n",
      "Number of parameters: 18\n"
     ]
    }
   ],
   "source": [
    "printInfo(W, b)"
   ]
  },
  {
   "cell_type": "markdown",
   "metadata": {
    "colab_type": "text",
    "id": "euHVEX4iKWdf"
   },
   "source": [
    "**Question:** Implémenter la fonction forward tel que $$y_j = \\sum_{i \\rightarrow j} W_{ij} x_i + b_j$$ où $x_i$ est un pixel de l'image, $W_{ij}$ est la valeur associée à l'arête reliant les unités $i$ et $j$ et $b_j$ est le biais associé à l'unité $j$"
   ]
  },
  {
   "cell_type": "code",
   "execution_count": 114,
   "metadata": {
    "colab": {},
    "colab_type": "code",
    "id": "emgTpnkOKWdf"
   },
   "outputs": [],
   "source": [
    "def forward(W,b,X):\n",
    "    \"\"\"\n",
    "        Perform the forward propagation\n",
    "        :param W: the weights (n_output x n_input)\n",
    "        :param b: the bias (n_output * 1)\n",
    "        :param X: the input (minibatch_size x n_input)\n",
    "        :type W: ndarray\n",
    "        :type B: ndarray\n",
    "        :type X: ndarray\n",
    "        :return: the transformed values (n_output x minibatch_size)\n",
    "        :rtype: ndarray\n",
    "    \"\"\"\n",
    "    b=b.reshape(W.shape[0],1)\n",
    "    return np.dot(W, np.transpose(X)) + b"
   ]
  },
  {
   "cell_type": "code",
   "execution_count": 115,
   "metadata": {},
   "outputs": [
    {
     "data": {
      "text/plain": [
       "array([[-2.81148922e-04, -4.25947378e+00, -2.66856122e+00,\n",
       "        -1.13340345e+00],\n",
       "       [-4.37162812e+00,  3.86558222e+00,  1.23321150e+00,\n",
       "        -4.25668013e+00],\n",
       "       [-7.46289572e+00,  1.24205860e+00, -4.04679809e+00,\n",
       "        -3.33489793e+00]])"
      ]
     },
     "execution_count": 115,
     "metadata": {},
     "output_type": "execute_result"
    }
   ],
   "source": [
    "X=np.random.normal(0,1,(4,5))\n",
    "forward(W,b,X)"
   ]
  },
  {
   "cell_type": "markdown",
   "metadata": {
    "colab_type": "text",
    "id": "gITyvKlJKWdh"
   },
   "source": [
    "**Question:** Implémenter la fonction softmax $$ \\sigma_i = \\frac{\\exp{a_i}}{\\sum_k \\exp{a_k}}$$"
   ]
  },
  {
   "cell_type": "code",
   "execution_count": 116,
   "metadata": {
    "colab": {},
    "colab_type": "code",
    "id": "4RP7zNrrKWdh"
   },
   "outputs": [],
   "source": [
    "def softmax(z):\n",
    "    \"\"\"\n",
    "        Perform the softmax transformation to the pre-activation values\n",
    "        :param a: the pre-activation values (n_output x minibatch_size)\n",
    "        :type a: ndarray\n",
    "        :return: the activation values (n_output x minibatch_size)\n",
    "        :rtype: ndarray\n",
    "    \"\"\"\n",
    "    z = z - np.max(z)\n",
    "    output = z\n",
    "    for i_sample in range(z.shape[1]):\n",
    "        output[:, i_sample] = np.exp(z[:, i_sample]) / np.sum(np.exp(z[:, i_sample]))\n",
    "    return output"
   ]
  },
  {
   "cell_type": "markdown",
   "metadata": {
    "colab_type": "text",
    "id": "oeBggY-AKWdj"
   },
   "source": [
    "**Question:** Vérifier que votre implémentation de softmax soit numériquement stable "
   ]
  },
  {
   "cell_type": "markdown",
   "metadata": {
    "colab_type": "text",
    "id": "xFXYu0gtKWdl"
   },
   "source": [
    "**Question:** Si le softmax s'avère instable, comment le rendre stable ? Proposer une implémentation stable du softmax. "
   ]
  },
  {
   "cell_type": "code",
   "execution_count": 117,
   "metadata": {
    "colab": {},
    "colab_type": "code",
    "id": "6dj3H212KWdj"
   },
   "outputs": [
    {
     "name": "stdout",
     "output_type": "stream",
     "text": [
      "[[1]\n",
      " [0]\n",
      " [0]]\n"
     ]
    }
   ],
   "source": [
    "# Example for testing the numerical stability of softmax\n",
    "# It should return [1., 0. ,0.], not [nan, 0., 0.]\n",
    "z = np.array(np.transpose([[1000000,1,100]]))\n",
    "print(softmax(z))"
   ]
  },
  {
   "cell_type": "markdown",
   "metadata": {
    "colab_type": "text",
    "id": "4BKLEUkNKWdo"
   },
   "source": [
    "**Question:** Implémenter le calcul du gradient de l'erreur par rapport à $a_i$:\n",
    "$$\\delta a_i = \\sigma_i - 1_{i=l}$$\n",
    "où $l$ est l'étiquette associée à la donnée courante."
   ]
  },
  {
   "cell_type": "code",
   "execution_count": 118,
   "metadata": {
    "colab": {},
    "colab_type": "code",
    "id": "JNKTNt3gKWdp"
   },
   "outputs": [],
   "source": [
    "def gradient_out(out, one_hot_batch):\n",
    "    \"\"\"\n",
    "    compute the gradient w.r.t. the pre-activation values of the softmax z_i\n",
    "    :param out: the softmax values (n_output x minibatch_size)\n",
    "    :type out: ndarray\n",
    "    :param one_hot_batch: the one-hot representation of the labels (n_output x minibatch_size)\n",
    "    :type one_hot_batch: ndarray\n",
    "    :return: the gradient w.r.t. z (n_output x minibatch_size)\n",
    "    :rtype: ndarray\n",
    "    \"\"\"\n",
    "    return out - one_hot_batch"
   ]
  },
  {
   "cell_type": "markdown",
   "metadata": {
    "colab_type": "text",
    "id": "4-WxLD1nKWds"
   },
   "source": [
    "**Question:** Implémenter la fonction du calcul de gradient par rapport aux paramètres: $$\\delta W_{ij} = \\delta a_j x_i$$  $$\\delta b_{j} = \\delta a_j$$ où $\\delta W_{ij}$ est la composante du gradient associée à l'arête reliant les unités $i$ et $j$, $\\delta b_{j}$ est la composante du gradient associée au bias de l'unité $j$, $\\delta z_j$ est le gradient de l'erreur par rapport à l'unité $j$ et $x_i$ est la valeur d'activation de l'unité $i$."
   ]
  },
  {
   "cell_type": "code",
   "execution_count": 119,
   "metadata": {
    "colab": {},
    "colab_type": "code",
    "id": "hDB7Vc7nKWds"
   },
   "outputs": [],
   "source": [
    "def gradient(derror, X):\n",
    "    \"\"\"\n",
    "        Compute the gradient w.r.t. the parameters\n",
    "        :param derror: the gradient w.r.t. z (n_output x minibatch_size)\n",
    "        :param X: the input (minibatch_size x n_input)\n",
    "        :type derror: ndarray\n",
    "        :type minibatch: ndarray\n",
    "        :return: the gradient w.r.t. the parameters (n_output x n_input), (n_output, 1)\n",
    "        :rtype: ndarray, ndarray\n",
    "    \"\"\"\n",
    "    minibatch_size = X.shape[0]\n",
    "    n_output = derror.shape[0]\n",
    "    n_input = X.shape[1]\n",
    "    grad_w = np.zeros((n_output, n_input))\n",
    "    grad_b = np.zeros(n_output)\n",
    "    for i_sample in range(minibatch_size):\n",
    "        grad_b += derror[:, i_sample]\n",
    "        grad_w += np.outer(derror[:, i_sample], X[i_sample, :])\n",
    "    \n",
    "    grad_b /= minibatch_size\n",
    "    grad_w /= minibatch_size\n",
    "    return grad_w,grad_b"
   ]
  },
  {
   "cell_type": "code",
   "execution_count": 120,
   "metadata": {},
   "outputs": [
    {
     "data": {
      "text/plain": [
       "(array([[ 0.62154954, -0.42363878, -0.05865762, -0.25848196,  0.66986597],\n",
       "        [-0.04042337,  1.5603421 ,  0.26974142, -0.58833246, -0.41192057],\n",
       "        [-0.50378901,  0.15854889,  0.29722724,  0.78519606, -0.69307064]]),\n",
       " array([-0.09212206,  0.65789616,  0.25604242]))"
      ]
     },
     "execution_count": 120,
     "metadata": {},
     "output_type": "execute_result"
    }
   ],
   "source": [
    "derror = np.random.randn(3, 4)\n",
    "X = np.random.randn(4, 5)\n",
    "\n",
    "gradient(derror, X)"
   ]
  },
  {
   "cell_type": "markdown",
   "metadata": {
    "colab_type": "text",
    "id": "hBSv8LIlKWdu"
   },
   "source": [
    "**Question:** Implémenter la fonction de mise à jour des paramètres $$\\theta = \\theta - \\eta \\delta \\theta$$ où $\\theta$ est un paramètre du modèle et $\\delta \\theta$ la composante du gradient associée à $\\theta$."
   ]
  },
  {
   "cell_type": "code",
   "execution_count": 121,
   "metadata": {
    "colab": {},
    "colab_type": "code",
    "id": "RnPLmd-iKWdv"
   },
   "outputs": [],
   "source": [
    "def update(eta, W, b, grad_w, grad_b):\n",
    "    \"\"\"\n",
    "        Update the parameters with an update rule\n",
    "        :param eta: the step-size\n",
    "        :param W: the weights\n",
    "        :param b: the bias\n",
    "        :param grad_w: the gradient w.r.t. the weights\n",
    "        :param grad_b: the gradient w.r.t. the bias\n",
    "        :type eta: float\n",
    "        :type W: ndarray\n",
    "        :type b: ndarray\n",
    "        :type grad_w: ndarray\n",
    "        :type grad_b: ndarray\n",
    "        :return: the updated parameters\n",
    "        :rtype: ndarray, ndarray\n",
    "    \"\"\"\n",
    "    W = W - eta * grad_w\n",
    "    b = b - eta * grad_b\n",
    "    return W, b"
   ]
  },
  {
   "cell_type": "markdown",
   "metadata": {
    "colab_type": "text",
    "id": "hzcMLu1KKWdx"
   },
   "source": [
    "## Algorithme d'apprentissage \n",
    "\n",
    "On a tout ce qu'il faut pour mettre en oeuvre l'apprentissage d'un modèle simple. Le modèle est simplement une couche neuronale de sortie, sans couche cachée. \n",
    "\n",
    "L'algorithme se déroule en 2 temps, tout d'abord la préparation: \n",
    "- init. du modèle\n",
    "- préparation des données et des variables permettant de stocker l'historique d'apprentissage\n",
    "- init. des paramètres de la SGD\n",
    "- définir le nombre d'époque comme une variable\n",
    "\n",
    "Puis vient la boucle d'apprentissage qui pour chaque époque effectue pour chaque exemple d'apprentissage : \n",
    "- inférence du modèle sur l'exemple d'apprentissage \n",
    "- calcul de la contribution de l'exemple à la  fonction objectif, et également au taux d'erreur de classification\n",
    "- Calcul du gradient de sortie\n",
    "- Mise à jour du modèle\n",
    "\n",
    "**Question:** Implémenter l'apprentissage du modèle"
   ]
  },
  {
   "cell_type": "code",
   "execution_count": 122,
   "metadata": {},
   "outputs": [],
   "source": [
    "def one_hot_transform(labels, n_labels):\n",
    "    \"\"\"\n",
    "    Compute one-hot representation of labels\n",
    "    :param labels: labels of the samples (1 x minibatch_size)\n",
    "    :param n_labels: number of different classes\n",
    "    :type labels: ndarray\n",
    "    :type n_labels: int\n",
    "    :type minibatch_size: int\n",
    "    :return: the one-hot representation (n_labels x minibatch_size)\n",
    "    :rtype: ndarray\n",
    "    \"\"\"\n",
    "    one_hot_batch=np.zeros((n_labels,len(labels)))\n",
    "    for pos, label in enumerate(labels):\n",
    "        one_hot_batch[label,pos]=1\n",
    "    return one_hot_batch\n",
    "\n",
    "def log_loss(outputs, one_hot_labels):\n",
    "    \"\"\"\n",
    "    Compute log-loss of current batch\n",
    "    :param outputs: outputs of the NNet (n_labels x minibatch_size)\n",
    "    :param one_hot_labels: one-hot representation of real labels (n_labels x minibatch_size)\n",
    "    :return log-loss summed over all outputs\n",
    "    \"\"\"\n",
    "    return np.sum(-np.log(outputs) * one_hot_labels) / outputs.shape[1]\n",
    "\n",
    "\n",
    "def accuracy_rate(Y, one_hot_batch):\n",
    "    \"\"\"\n",
    "    Compute classification accuracy of current batch\n",
    "    :param outputs: outputs of the NNet (n_labels x minibatch_size)\n",
    "    :param label: labels to predict (n_labels x minibatch_size)\n",
    "    :return accuracy computed over all outputs\n",
    "    \"\"\"\n",
    "    predicted_one_hot_labels = np.zeros(one_hot_batch.shape)\n",
    "    for pos,predicted_label in enumerate(np.argmax(Y,axis=0)):\n",
    "        predicted_one_hot_labels[predicted_label,pos]=1\n",
    "\n",
    "    nb_correct_predictions = np.sum(predicted_one_hot_labels * one_hot_batch)\n",
    "    return nb_correct_predictions/one_hot_batch.shape[1]\n",
    "    "
   ]
  },
  {
   "cell_type": "code",
   "execution_count": 123,
   "metadata": {
    "colab": {},
    "colab_type": "code",
    "id": "2y1-MKzmKWdy"
   },
   "outputs": [],
   "source": [
    "def train(n_in, n_out, eta, epochs, minibatch_size, train_set):\n",
    "    \n",
    "    #paramètres initialisation + historique\n",
    "    tot_train=train_set[0].shape[0]\n",
    "    \n",
    "    train_loss=[]\n",
    "    train_accuracy=[]\n",
    "    valid_loss=[]\n",
    "    valid_accuracy=[]\n",
    "    \n",
    "    W,b=init(n_in,n_out)\n",
    "    nb_batch=tot_train//minibatch_size\n",
    "    f = FloatProgress(min=0, max=nb_batch)\n",
    "    \n",
    "    for e in range(epochs):\n",
    "        print(\"Training model (epoch = {}/{})\".format(e+1, epochs))\n",
    "        f = FloatProgress(min=0, max=nb_batch)\n",
    "        display(f)\n",
    "        for n in range(nb_batch):\n",
    "            f.value+=1\n",
    "            #lecture du minibatch\n",
    "            batch=train_set[0][(n*minibatch_size):((n+1)*minibatch_size)]\n",
    "            labels=train_set[1][(n*minibatch_size):((n+1)*minibatch_size)]\n",
    "            X=batch\n",
    "            \n",
    "            # representation one-hot des labels\n",
    "            labels_to_predict=one_hot_transform(labels,n_out)\n",
    "            \n",
    "            #forward propagation\n",
    "            Y=forward(W,b,X)\n",
    "            \n",
    "            #softmax\n",
    "            outputs=softmax(Y)\n",
    "            \n",
    "            # calcul de la log-loss et de la précision pour ce batch\n",
    "            train_loss.append(log_loss(outputs,labels_to_predict))\n",
    "            train_accuracy.append(accuracy_rate(outputs,labels_to_predict))\n",
    "            \n",
    "            if valid_set:\n",
    "                outputs_valid = softmax(forward(W, b, valid_set[0]))\n",
    "                labels_valid = one_hot_transform(valid_set[1], n_out)\n",
    "                valid_loss.append(log_loss(outputs_valid, labels_valid))\n",
    "                valid_accuracy.append(accuracy_rate(outputs_valid, labels_valid))\n",
    "            \n",
    "            # calcul du gradient de sortie : backward propagation\n",
    "            out=gradient_out(outputs, labels_to_predict)\n",
    "            grad_W, grad_b = gradient(out,X)\n",
    "            \n",
    "            # mise a jour du modele\n",
    "            W,b=update(eta, W, b, grad_W, grad_b)\n",
    "            \n",
    "    return(W,b,train_loss,train_accuracy,valid_loss,valid_accuracy)\n"
   ]
  },
  {
   "cell_type": "code",
   "execution_count": 124,
   "metadata": {},
   "outputs": [],
   "source": [
    "#PARAMETERS\n",
    "N_IN=784\n",
    "N_OUT=10\n",
    "ETA=1\n",
    "EPOCHS=10\n",
    "MINIBATCH_SIZE=256"
   ]
  },
  {
   "cell_type": "code",
   "execution_count": 125,
   "metadata": {
    "scrolled": false
   },
   "outputs": [
    {
     "name": "stdout",
     "output_type": "stream",
     "text": [
      "Training model (epoch = 1/10)\n"
     ]
    },
    {
     "data": {
      "application/vnd.jupyter.widget-view+json": {
       "model_id": "16751d8a78e14323940cbfcff0c24f77",
       "version_major": 2,
       "version_minor": 0
      },
      "text/plain": [
       "FloatProgress(value=0.0, max=195.0)"
      ]
     },
     "metadata": {},
     "output_type": "display_data"
    },
    {
     "name": "stdout",
     "output_type": "stream",
     "text": [
      "Training model (epoch = 2/10)\n"
     ]
    },
    {
     "data": {
      "application/vnd.jupyter.widget-view+json": {
       "model_id": "f6d410a6ccbc4043818b222b65bfa067",
       "version_major": 2,
       "version_minor": 0
      },
      "text/plain": [
       "FloatProgress(value=0.0, max=195.0)"
      ]
     },
     "metadata": {},
     "output_type": "display_data"
    },
    {
     "name": "stdout",
     "output_type": "stream",
     "text": [
      "Training model (epoch = 3/10)\n"
     ]
    },
    {
     "data": {
      "application/vnd.jupyter.widget-view+json": {
       "model_id": "62f62f2fd2d14f54b187dfbdfcd74b69",
       "version_major": 2,
       "version_minor": 0
      },
      "text/plain": [
       "FloatProgress(value=0.0, max=195.0)"
      ]
     },
     "metadata": {},
     "output_type": "display_data"
    },
    {
     "name": "stdout",
     "output_type": "stream",
     "text": [
      "Training model (epoch = 4/10)\n"
     ]
    },
    {
     "data": {
      "application/vnd.jupyter.widget-view+json": {
       "model_id": "531e400f2a334f9c84caa00f5e817371",
       "version_major": 2,
       "version_minor": 0
      },
      "text/plain": [
       "FloatProgress(value=0.0, max=195.0)"
      ]
     },
     "metadata": {},
     "output_type": "display_data"
    },
    {
     "name": "stdout",
     "output_type": "stream",
     "text": [
      "Training model (epoch = 5/10)\n"
     ]
    },
    {
     "data": {
      "application/vnd.jupyter.widget-view+json": {
       "model_id": "377ea72703754221874a623315c97756",
       "version_major": 2,
       "version_minor": 0
      },
      "text/plain": [
       "FloatProgress(value=0.0, max=195.0)"
      ]
     },
     "metadata": {},
     "output_type": "display_data"
    },
    {
     "name": "stdout",
     "output_type": "stream",
     "text": [
      "Training model (epoch = 6/10)\n"
     ]
    },
    {
     "data": {
      "application/vnd.jupyter.widget-view+json": {
       "model_id": "688e29355b004247bbca3871269a24b8",
       "version_major": 2,
       "version_minor": 0
      },
      "text/plain": [
       "FloatProgress(value=0.0, max=195.0)"
      ]
     },
     "metadata": {},
     "output_type": "display_data"
    },
    {
     "name": "stdout",
     "output_type": "stream",
     "text": [
      "Training model (epoch = 7/10)\n"
     ]
    },
    {
     "data": {
      "application/vnd.jupyter.widget-view+json": {
       "model_id": "233f6ac809064208bf5e4cacd470f2c4",
       "version_major": 2,
       "version_minor": 0
      },
      "text/plain": [
       "FloatProgress(value=0.0, max=195.0)"
      ]
     },
     "metadata": {},
     "output_type": "display_data"
    },
    {
     "name": "stdout",
     "output_type": "stream",
     "text": [
      "Training model (epoch = 8/10)\n"
     ]
    },
    {
     "data": {
      "application/vnd.jupyter.widget-view+json": {
       "model_id": "316449db21ad4bfeb72587ed7eabe1a9",
       "version_major": 2,
       "version_minor": 0
      },
      "text/plain": [
       "FloatProgress(value=0.0, max=195.0)"
      ]
     },
     "metadata": {},
     "output_type": "display_data"
    },
    {
     "name": "stdout",
     "output_type": "stream",
     "text": [
      "Training model (epoch = 9/10)\n"
     ]
    },
    {
     "data": {
      "application/vnd.jupyter.widget-view+json": {
       "model_id": "62f5c39a7b8b4b5b928007180b798302",
       "version_major": 2,
       "version_minor": 0
      },
      "text/plain": [
       "FloatProgress(value=0.0, max=195.0)"
      ]
     },
     "metadata": {},
     "output_type": "display_data"
    },
    {
     "name": "stdout",
     "output_type": "stream",
     "text": [
      "Training model (epoch = 10/10)\n"
     ]
    },
    {
     "data": {
      "application/vnd.jupyter.widget-view+json": {
       "model_id": "0d922b80afbe455d83fa2bb5c546c2b6",
       "version_major": 2,
       "version_minor": 0
      },
      "text/plain": [
       "FloatProgress(value=0.0, max=195.0)"
      ]
     },
     "metadata": {},
     "output_type": "display_data"
    }
   ],
   "source": [
    "#Train\n",
    "W,b,train_loss,train_accuracy,valid_loss,valid_accuracy=train(N_IN, N_OUT, ETA, EPOCHS, MINIBATCH_SIZE, train_set)"
   ]
  },
  {
   "cell_type": "markdown",
   "metadata": {
    "colab_type": "text",
    "id": "iZEhLDilKWd0"
   },
   "source": [
    "**Question:** Si vous stockez correctement les informations, vous pouvez tracer l'évolution du taux d'erreur et de la fonction objectif au cours du temps. Cette étape est loin d'être illustrative, elle est indispensable pour vérifier si l'apprentissage se passe bien. \n",
    "\n"
   ]
  },
  {
   "cell_type": "markdown",
   "metadata": {
    "colab_type": "text",
    "id": "CwFi9mTCKWd4"
   },
   "source": [
    "**Question:** Inclure dans votre code, le calcul du taux d'erreur et de la fonction objectif sur les données de validation (cela doit faire l'objet du fonction à part). Représenter les évolutions également et les comparer avec celles observées sur les données d'apprentissage. "
   ]
  },
  {
   "cell_type": "code",
   "execution_count": 126,
   "metadata": {
    "colab": {},
    "colab_type": "code",
    "id": "sZNcuF2kKWd5"
   },
   "outputs": [
    {
     "data": {
      "image/png": "[encoded data removed]",
      "text/plain": [
       "<Figure size 432x288 with 1 Axes>"
      ]
     },
     "metadata": {},
     "output_type": "display_data"
    },
    {
     "name": "stdout",
     "output_type": "stream",
     "text": [
      "validation loss:0.36742720993511796\n"
     ]
    },
    {
     "data": {
      "image/png": "[encoded data removed]",
      "text/plain": [
       "<Figure size 432x288 with 1 Axes>"
      ]
     },
     "metadata": {},
     "output_type": "display_data"
    },
    {
     "name": "stdout",
     "output_type": "stream",
     "text": [
      "validation accuracy:0.9098\n"
     ]
    }
   ],
   "source": [
    "plt.plot(train_loss, \"b\", label='Training loss (current batch)')\n",
    "plt.plot(valid_loss, \"r\", label='Validation loss (all samples)')\n",
    "plt.title(\"Training and Validation loss\")\n",
    "plt.xlabel(\"Itérations sur mini-batches\")\n",
    "plt.ylabel(\"Loss\")\n",
    "plt.legend()\n",
    "plt.show()\n",
    "print('validation loss:{}'.format(valid_loss[len(valid_loss)-1]))\n",
    "\n",
    "plt.plot(train_accuracy, \"b\", label='Training Accuracy')\n",
    "plt.plot(valid_accuracy, \"r\", label='Validation Accuracy')\n",
    "plt.title(\"Training and Validation Accuracy\")\n",
    "plt.xlabel(\"Itérations sur mini-batches\")\n",
    "plt.ylabel(\"Accuracy\")\n",
    "plt.legend()\n",
    "plt.show()\n",
    "print('validation accuracy:{}'.format(valid_accuracy[len(valid_accuracy)-1]))"
   ]
  },
  {
   "cell_type": "markdown",
   "metadata": {
    "colab_type": "text",
    "id": "FzzIlowPKWd6"
   },
   "source": [
    "**Question:** Montrer, à l'aide d'une figure, l'effet du step-size (prendre $\\eta$=[0.01,0.1,1.0,10.]) sur les courbes d'apprentissage"
   ]
  },
  {
   "cell_type": "code",
   "execution_count": 127,
   "metadata": {
    "colab": {},
    "colab_type": "code",
    "id": "LadSNtxsKWd7"
   },
   "outputs": [
    {
     "name": "stdout",
     "output_type": "stream",
     "text": [
      "Learning for eta = 0.01\n",
      "Training model (epoch = 1/3)\n"
     ]
    },
    {
     "data": {
      "application/vnd.jupyter.widget-view+json": {
       "model_id": "eae056bad222470a971b9785b9e05ffc",
       "version_major": 2,
       "version_minor": 0
      },
      "text/plain": [
       "FloatProgress(value=0.0, max=195.0)"
      ]
     },
     "metadata": {},
     "output_type": "display_data"
    },
    {
     "name": "stdout",
     "output_type": "stream",
     "text": [
      "Training model (epoch = 2/3)\n"
     ]
    },
    {
     "data": {
      "application/vnd.jupyter.widget-view+json": {
       "model_id": "944b079eded54d8f91858554ddfe6d90",
       "version_major": 2,
       "version_minor": 0
      },
      "text/plain": [
       "FloatProgress(value=0.0, max=195.0)"
      ]
     },
     "metadata": {},
     "output_type": "display_data"
    },
    {
     "name": "stdout",
     "output_type": "stream",
     "text": [
      "Training model (epoch = 3/3)\n"
     ]
    },
    {
     "data": {
      "application/vnd.jupyter.widget-view+json": {
       "model_id": "4a5b9a8c0bf34adba769321a977b9ba2",
       "version_major": 2,
       "version_minor": 0
      },
      "text/plain": [
       "FloatProgress(value=0.0, max=195.0)"
      ]
     },
     "metadata": {},
     "output_type": "display_data"
    },
    {
     "name": "stdout",
     "output_type": "stream",
     "text": [
      "Learning for eta = 0.1\n",
      "Training model (epoch = 1/3)\n"
     ]
    },
    {
     "data": {
      "application/vnd.jupyter.widget-view+json": {
       "model_id": "19066acd834f422d996ef96a027d619c",
       "version_major": 2,
       "version_minor": 0
      },
      "text/plain": [
       "FloatProgress(value=0.0, max=195.0)"
      ]
     },
     "metadata": {},
     "output_type": "display_data"
    },
    {
     "name": "stdout",
     "output_type": "stream",
     "text": [
      "Training model (epoch = 2/3)\n"
     ]
    },
    {
     "data": {
      "application/vnd.jupyter.widget-view+json": {
       "model_id": "491b9c88f5f9457a8c079d452b9e3eb1",
       "version_major": 2,
       "version_minor": 0
      },
      "text/plain": [
       "FloatProgress(value=0.0, max=195.0)"
      ]
     },
     "metadata": {},
     "output_type": "display_data"
    },
    {
     "name": "stdout",
     "output_type": "stream",
     "text": [
      "Training model (epoch = 3/3)\n"
     ]
    },
    {
     "data": {
      "application/vnd.jupyter.widget-view+json": {
       "model_id": "ec06c548ccbe4248846eda3cde635d9b",
       "version_major": 2,
       "version_minor": 0
      },
      "text/plain": [
       "FloatProgress(value=0.0, max=195.0)"
      ]
     },
     "metadata": {},
     "output_type": "display_data"
    },
    {
     "name": "stdout",
     "output_type": "stream",
     "text": [
      "Learning for eta = 1.0\n",
      "Training model (epoch = 1/3)\n"
     ]
    },
    {
     "data": {
      "application/vnd.jupyter.widget-view+json": {
       "model_id": "02e51b0d8f89470e9a26355eda0da1e2",
       "version_major": 2,
       "version_minor": 0
      },
      "text/plain": [
       "FloatProgress(value=0.0, max=195.0)"
      ]
     },
     "metadata": {},
     "output_type": "display_data"
    },
    {
     "name": "stdout",
     "output_type": "stream",
     "text": [
      "Training model (epoch = 2/3)\n"
     ]
    },
    {
     "data": {
      "application/vnd.jupyter.widget-view+json": {
       "model_id": "1cfa8b69ec7d4fc78ccbc103b8525ae1",
       "version_major": 2,
       "version_minor": 0
      },
      "text/plain": [
       "FloatProgress(value=0.0, max=195.0)"
      ]
     },
     "metadata": {},
     "output_type": "display_data"
    },
    {
     "name": "stdout",
     "output_type": "stream",
     "text": [
      "Training model (epoch = 3/3)\n"
     ]
    },
    {
     "data": {
      "application/vnd.jupyter.widget-view+json": {
       "model_id": "a2f1ae4a78134462b131cd04dad2f944",
       "version_major": 2,
       "version_minor": 0
      },
      "text/plain": [
       "FloatProgress(value=0.0, max=195.0)"
      ]
     },
     "metadata": {},
     "output_type": "display_data"
    },
    {
     "name": "stdout",
     "output_type": "stream",
     "text": [
      "Learning for eta = 10.0\n",
      "Training model (epoch = 1/3)\n"
     ]
    },
    {
     "data": {
      "application/vnd.jupyter.widget-view+json": {
       "model_id": "ee9a11a4e6f0466695f187996b3f3970",
       "version_major": 2,
       "version_minor": 0
      },
      "text/plain": [
       "FloatProgress(value=0.0, max=195.0)"
      ]
     },
     "metadata": {},
     "output_type": "display_data"
    },
    {
     "name": "stdout",
     "output_type": "stream",
     "text": [
      "Training model (epoch = 2/3)\n"
     ]
    },
    {
     "data": {
      "application/vnd.jupyter.widget-view+json": {
       "model_id": "598c7de4a9dc4d6fb541397d4090b43c",
       "version_major": 2,
       "version_minor": 0
      },
      "text/plain": [
       "FloatProgress(value=0.0, max=195.0)"
      ]
     },
     "metadata": {},
     "output_type": "display_data"
    },
    {
     "name": "stdout",
     "output_type": "stream",
     "text": [
      "Training model (epoch = 3/3)\n"
     ]
    },
    {
     "data": {
      "application/vnd.jupyter.widget-view+json": {
       "model_id": "e881ab7496de466489a13af3997035aa",
       "version_major": 2,
       "version_minor": 0
      },
      "text/plain": [
       "FloatProgress(value=0.0, max=195.0)"
      ]
     },
     "metadata": {},
     "output_type": "display_data"
    },
    {
     "data": {
      "image/png": "[encoded data removed]",
      "text/plain": [
       "<Figure size 432x288 with 1 Axes>"
      ]
     },
     "metadata": {},
     "output_type": "display_data"
    },
    {
     "data": {
      "image/png": "[encoded data removed]",
      "text/plain": [
       "<Figure size 432x288 with 1 Axes>"
      ]
     },
     "metadata": {},
     "output_type": "display_data"
    }
   ],
   "source": [
    "NB_EPOCHS = 3\n",
    "TRAIN = False\n",
    "\n",
    "eta_range=[0.01*10**i for i in range(4)]\n",
    "\n",
    "# train\n",
    "if TRAIN:\n",
    "    log_loss_train = []\n",
    "    acc_train = []\n",
    "    log_loss_valid = []\n",
    "    acc_valid = []\n",
    "    \n",
    "    for eta in eta_range:\n",
    "        print(\"Learning for eta = {}\".format(eta))\n",
    "        _, _,train_loss,train_accuracy,valid_loss,valid_accuracy = train(N_IN, N_OUT, eta, NB_EPOCHS, MINIBATCH_SIZE, train_set)\n",
    "        log_loss_train.append(train_loss)\n",
    "        acc_train.append(train_accuracy)\n",
    "        log_loss_valid.append(valid_loss)\n",
    "        acc_valid.append(valid_accuracy)\n",
    "    \n",
    "# display results\n",
    "for i in range(len(log_loss_valid)):\n",
    "    plt.plot(log_loss_valid[i], label=\"eta = \" + str(eta_range[i]))\n",
    "plt.title(\"Loss sur Validation Set\")\n",
    "plt.xlabel(\"Itérations sur mini-batches\")\n",
    "plt.ylabel(\"Loss\")\n",
    "plt.legend()\n",
    "plt.show()\n",
    "\n",
    "for i in range(len(log_loss_valid)):\n",
    "    plt.plot(acc_valid[i], label=\"eta = \" + str(eta_range[i]))\n",
    "plt.title(\"Accuracy sur Validation set\")\n",
    "plt.xlabel(\"Itérations sur mini-batches\")\n",
    "plt.ylabel(\"Accuracy\")\n",
    "plt.legend()\n",
    "plt.show()"
   ]
  },
  {
   "cell_type": "code",
   "execution_count": 136,
   "metadata": {},
   "outputs": [
    {
     "name": "stdout",
     "output_type": "stream",
     "text": [
      "Results for test set :\n",
      " - log loss moyenne = 0.387\n",
      " - taux de précision = 90.44%\n"
     ]
    }
   ],
   "source": [
    "#TEST\n",
    "outputs_test = softmax(forward(W, b, test_set[0]))\n",
    "labels_test = one_hot_transform(test_set[1], 10)\n",
    "print(\"Results for test set :\")\n",
    "print(\" - log loss moyenne = {:.3f}\".format(log_loss(outputs_test, labels_test)))\n",
    "print(\" - taux de précision = {:.2f}%\".format(100*accuracy_rate(outputs_test, labels_test)))"
   ]
  },
  {
   "cell_type": "markdown",
   "metadata": {},
   "source": [
    "# GRADIENT CHECKING"
   ]
  },
  {
   "cell_type": "code",
   "execution_count": 137,
   "metadata": {},
   "outputs": [
    {
     "ename": "TypeError",
     "evalue": "'builtin_function_or_method' object is not subscriptable",
     "output_type": "error",
     "traceback": [
      "\u001b[1;31m---------------------------------------------------------------------------\u001b[0m",
      "\u001b[1;31mTypeError\u001b[0m                                 Traceback (most recent call last)",
      "\u001b[1;32m<ipython-input-137-d6ff764b7167>\u001b[0m in \u001b[0;36m<module>\u001b[1;34m()\u001b[0m\n\u001b[0;32m      4\u001b[0m \u001b[1;32mfor\u001b[0m \u001b[0mi\u001b[0m \u001b[1;32min\u001b[0m \u001b[0mrange\u001b[0m\u001b[1;33m(\u001b[0m\u001b[0mN_IN\u001b[0m\u001b[1;33m)\u001b[0m\u001b[1;33m:\u001b[0m\u001b[1;33m\u001b[0m\u001b[0m\n\u001b[0;32m      5\u001b[0m     \u001b[0mWplus\u001b[0m\u001b[1;33m=\u001b[0m\u001b[0mW\u001b[0m\u001b[1;33m.\u001b[0m\u001b[0mcopy\u001b[0m\u001b[1;33m\u001b[0m\u001b[0m\n\u001b[1;32m----> 6\u001b[1;33m     \u001b[0mWplus\u001b[0m\u001b[1;33m[\u001b[0m\u001b[0mi\u001b[0m\u001b[1;33m]\u001b[0m\u001b[1;33m+=\u001b[0m\u001b[0mepsilon\u001b[0m\u001b[1;33m\u001b[0m\u001b[0m\n\u001b[0m\u001b[0;32m      7\u001b[0m     \u001b[0mWminus\u001b[0m\u001b[1;33m=\u001b[0m\u001b[0mW\u001b[0m\u001b[1;33m.\u001b[0m\u001b[0mcopy\u001b[0m\u001b[1;33m\u001b[0m\u001b[0m\n\u001b[0;32m      8\u001b[0m     \u001b[0mWminus\u001b[0m\u001b[1;33m[\u001b[0m\u001b[0mi\u001b[0m\u001b[1;33m]\u001b[0m\u001b[1;33m-=\u001b[0m\u001b[0mepsilon\u001b[0m\u001b[1;33m\u001b[0m\u001b[0m\n",
      "\u001b[1;31mTypeError\u001b[0m: 'builtin_function_or_method' object is not subscriptable"
     ]
    }
   ],
   "source": [
    "epsilon=1e-4\n",
    "\n",
    "gradApprox=np.zeros(N_OUT)\n",
    "for i in range(N_IN):\n",
    "    Wplus=W.copy\n",
    "    Wplus[i]+=epsilon\n",
    "    Wminus=W.copy\n",
    "    Wminus[i]-=epsilon\n",
    "    gradApprox=log_loss(Wplus,labels_to_predict)-log_loss(Wminus,labels_to_predict)/(2*epsilon)"
   ]
  },
  {
   "cell_type": "code",
   "execution_count": null,
   "metadata": {},
   "outputs": [],
   "source": []
  }
 ],
 "metadata": {
  "colab": {
   "name": "TP1.ipynb",
   "provenance": [],
   "version": "0.3.2"
  },
  "kernelspec": {
   "display_name": "Python 3",
   "language": "python",
   "name": "python3"
  },
  "language_info": {
   "codemirror_mode": {
    "name": "ipython",
    "version": 3
   },
   "file_extension": ".py",
   "mimetype": "text/x-python",
   "name": "python",
   "nbconvert_exporter": "python",
   "pygments_lexer": "ipython3",
   "version": "3.6.5"
  }
 },
 "nbformat": 4,
 "nbformat_minor": 1
}
